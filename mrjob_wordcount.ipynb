{
  "cells": [
    {
      "cell_type": "markdown",
      "metadata": {
        "id": "view-in-github",
        "colab_type": "text"
      },
      "source": [
        "<a href=\"https://colab.research.google.com/github/groda/big_data/blob/master/mrjob_wordcount.ipynb\" target=\"_parent\"><img src=\"https://colab.research.google.com/assets/colab-badge.svg\" alt=\"Open In Colab\"/></a>"
      ]
    },
    {
      "cell_type": "markdown",
      "metadata": {
        "id": "hyHna6wYs42H"
      },
      "source": [
        "<a href=\"https://colab.research.google.com/github/groda/big_data/blob/master/generate_data_with_Faker.ipynb\" target=\"_parent\"><img src=\"https://colab.research.google.com/assets/colab-badge.svg\" alt=\"Open In Colab\"/></a>\n",
        "<a href=\"https://github.com/groda/big_data\"><div><img src=\"https://github.com/groda/big_data/blob/master/logo_bdb.png?raw=true\" align=right width=\"90\"></div></a>\n",
        "# A simple MapReduce job with mrjob\n",
        "\n",
        "`mrjob` is a **Python framework** that simplifies writing and running multi-step **MapReduce jobs** and **hybrid Spark jobs** entirely in Python. It allows developers to test jobs locally and then execute them seamlessly across different backends like **Hadoop, YARN, or AWS EMR** with minimal code changes. (**Note:** While $\\text{mrjob}$ is robust and was famously developed and used extensively by Yelp, the project has not been actively maintained or updated in recent years.).\n",
        "\n",
        "In this notebook, we'll start with a basic wordcount example to demonstrate its core functionality.\n",
        "\n",
        "Find the official $\\text{mrjob}$ documentation here: [https://mrjob.readthedocs.io/en/latest/](https://mrjob.readthedocs.io/en/latest/)"
      ]
    },
    {
      "cell_type": "code",
      "source": [
        "!pip install mrjob"
      ],
      "metadata": {
        "id": "JBhcJ_vxyObq",
        "outputId": "5ade0651-961f-4be7-e7e0-24c9dabcb7a8",
        "colab": {
          "base_uri": "https://localhost:8080/"
        }
      },
      "execution_count": 1,
      "outputs": [
        {
          "output_type": "stream",
          "name": "stdout",
          "text": [
            "Collecting mrjob\n",
            "  Downloading mrjob-0.7.4-py2.py3-none-any.whl.metadata (7.3 kB)\n",
            "Requirement already satisfied: PyYAML>=3.10 in /usr/local/lib/python3.12/dist-packages (from mrjob) (6.0.3)\n",
            "Downloading mrjob-0.7.4-py2.py3-none-any.whl (439 kB)\n",
            "\u001b[2K   \u001b[90m━━━━━━━━━━━━━━━━━━━━━━━━━━━━━━━━━━━━━━━━\u001b[0m \u001b[32m439.6/439.6 kB\u001b[0m \u001b[31m5.2 MB/s\u001b[0m eta \u001b[36m0:00:00\u001b[0m\n",
            "\u001b[?25hInstalling collected packages: mrjob\n",
            "Successfully installed mrjob-0.7.4\n"
          ]
        }
      ]
    },
    {
      "cell_type": "markdown",
      "source": [
        "Let us check if there are any examples that come with the `mrjob` distribution."
      ],
      "metadata": {
        "id": "FjlHvEyVydfe"
      }
    },
    {
      "cell_type": "code",
      "source": [
        "!find /usr -name \"*examples*\" |grep mrjob"
      ],
      "metadata": {
        "id": "QtlHwXwEySPD",
        "outputId": "f7b1fc28-f441-4c90-865a-672faa74d18d",
        "colab": {
          "base_uri": "https://localhost:8080/"
        }
      },
      "execution_count": 2,
      "outputs": [
        {
          "output_type": "stream",
          "name": "stdout",
          "text": [
            "/usr/local/lib/python3.12/dist-packages/mrjob/examples\n"
          ]
        }
      ]
    },
    {
      "cell_type": "markdown",
      "source": [
        "Here's the list of examples:"
      ],
      "metadata": {
        "id": "DLyGstg2yk3l"
      }
    },
    {
      "cell_type": "code",
      "source": [
        "!ls /usr/local/lib/python3.12/dist-packages/mrjob/examples"
      ],
      "metadata": {
        "id": "tJUj12vAylCk",
        "outputId": "224bf191-b5cc-43a6-f74b-e24349ced79d",
        "colab": {
          "base_uri": "https://localhost:8080/"
        }
      },
      "execution_count": 3,
      "outputs": [
        {
          "output_type": "stream",
          "name": "stdout",
          "text": [
            "docs-to-classify\t      mr_phone_to_url.py\n",
            "__init__.py\t\t      mr_sparkaboom.py\n",
            "mr_boom.py\t\t      mr_spark_most_used_word.py\n",
            "mr_count_lines_by_file.py     mr_spark_wordcount.py\n",
            "mr_count_lines_right.py       mr_spark_wordcount_script.py\n",
            "mr_count_lines_wrong.py       mr_text_classifier.py\n",
            "mr_grep.py\t\t      mr_wc.py\n",
            "mr_jar_step_example.py\t      mr_word_freq_count.py\n",
            "mr_log_sampler.py\t      mr_words_containing_u_freq_count.py\n",
            "mr_most_used_word.py\t      nicknack-1.0.1.jar\n",
            "mr_next_word_stats.py\t      __pycache__\n",
            "mr_nick_nack_input_format.py  spark_wordcount_script.py\n",
            "mr_nick_nack.py\t\t      stop_words.txt\n"
          ]
        }
      ]
    },
    {
      "cell_type": "markdown",
      "source": [
        "`mr_wc.py` must be the classic \"word count\" example."
      ],
      "metadata": {
        "id": "ca-2NlLPy7FX"
      }
    },
    {
      "cell_type": "code",
      "source": [
        "!cat /usr/local/lib/python3.12/dist-packages/mrjob/examples/mr_wc.py"
      ],
      "metadata": {
        "id": "_MPypLJnyzQZ",
        "outputId": "7852619e-0377-40aa-ae1d-c798f0776bb6",
        "colab": {
          "base_uri": "https://localhost:8080/"
        }
      },
      "execution_count": 4,
      "outputs": [
        {
          "output_type": "stream",
          "name": "stdout",
          "text": [
            "# Copyright 2009-2010 Yelp\n",
            "#\n",
            "# Licensed under the Apache License, Version 2.0 (the \"License\");\n",
            "# you may not use this file except in compliance with the License.\n",
            "# You may obtain a copy of the License at\n",
            "#\n",
            "# http://www.apache.org/licenses/LICENSE-2.0\n",
            "#\n",
            "# Unless required by applicable law or agreed to in writing, software\n",
            "# distributed under the License is distributed on an \"AS IS\" BASIS,\n",
            "# WITHOUT WARRANTIES OR CONDITIONS OF ANY KIND, either express or implied.\n",
            "# See the License for the specific language governing permissions and\n",
            "# limitations under the License.\n",
            "\n",
            "\"\"\"An implementation of wc as an MRJob.\n",
            "\n",
            "This is meant as an example of why mapper_final is useful.\"\"\"\n",
            "from mrjob.job import MRJob\n",
            "\n",
            "\n",
            "class MRWordCountUtility(MRJob):\n",
            "\n",
            "    def __init__(self, *args, **kwargs):\n",
            "        super(MRWordCountUtility, self).__init__(*args, **kwargs)\n",
            "        self.chars = 0\n",
            "        self.words = 0\n",
            "        self.lines = 0\n",
            "\n",
            "    def mapper(self, _, line):\n",
            "        # Don't actually yield anything for each line. Instead, collect them\n",
            "        # and yield the sums when all lines have been processed. The results\n",
            "        # will be collected by the reducer.\n",
            "        self.chars += len(line) + 1  # +1 for newline\n",
            "        self.words += sum(1 for word in line.split() if word.strip())\n",
            "        self.lines += 1\n",
            "\n",
            "    def mapper_final(self):\n",
            "        yield('chars', self.chars)\n",
            "        yield('words', self.words)\n",
            "        yield('lines', self.lines)\n",
            "\n",
            "    def reducer(self, key, values):\n",
            "        yield(key, sum(values))\n",
            "\n",
            "\n",
            "if __name__ == '__main__':\n",
            "    MRWordCountUtility.run()\n"
          ]
        }
      ]
    },
    {
      "cell_type": "markdown",
      "source": [
        "Let us create a symbolic link to `/usr/local/lib/python3.12/dist-packages/mrjob/examples` so that we don't need to type long paths (and the folder is visible in the left pane)."
      ],
      "metadata": {
        "id": "wWvXygBjzWbl"
      }
    },
    {
      "cell_type": "code",
      "source": [
        "!ln -s /usr/local/lib/python3.12/dist-packages/mrjob/examples examples"
      ],
      "metadata": {
        "id": "ntSu0qgmzgkF"
      },
      "execution_count": 5,
      "outputs": []
    },
    {
      "cell_type": "markdown",
      "source": [
        "We are going to need some text data to run the wordcount example. It is common for Hadoop distributions to provide some toy data together with example scripts. And in fact, also `mrjob` includes some data in the folder `docs-to-classify` (subfolder of `examples`). Thi will do it for our wordcount demonstration."
      ],
      "metadata": {
        "id": "xdvSx6SkzqAj"
      }
    },
    {
      "cell_type": "code",
      "source": [
        "!ls -lh examples/docs-to-classify"
      ],
      "metadata": {
        "id": "ov3QzMzCzpWJ",
        "outputId": "d4726569-ab50-4211-ee19-04c7c6d858eb",
        "colab": {
          "base_uri": "https://localhost:8080/"
        }
      },
      "execution_count": 6,
      "outputs": [
        {
          "output_type": "stream",
          "name": "stdout",
          "text": [
            "total 88K\n",
            "-rw-r--r-- 1 root root 9.4K Oct 10 21:18 american_feuillage-whitman-america.txt\n",
            "-rw-r--r-- 1 root root  933 Oct 10 21:18 as_i_ponderd_in_silence-whitman.txt\n",
            "-rw-r--r-- 1 root root 1.2K Oct 10 21:18 buckingham_palace-milne-not_america.txt\n",
            "-rw-r--r-- 1 root root  20K Oct 10 21:18 chants_democratic-whitman-america.txt\n",
            "-rw-r--r-- 1 root root  288 Oct 10 21:18 corner_of_the_street-milne-not_whitman.txt\n",
            "-rw-r--r-- 1 root root  154 Oct 10 21:18 happiness-milne.txt\n",
            "-rw-r--r-- 1 root root 1.5K Oct 10 21:18 in_cabind_ships_at_sea-whitman.txt\n",
            "-rw-r--r-- 1 root root  326 Oct 10 21:18 lines_and_squares-milne-animals.txt\n",
            "-rw-r--r-- 1 root root  432 Oct 10 21:18 ones_self_i_sing-whitman.txt\n",
            "-rw-r--r-- 1 root root 1.2K Oct 10 21:18 puppy_and_i-milne-animals.txt\n",
            "-rw-r--r-- 1 root root  415 Oct 10 21:18 the_christening-milne-animals.txt\n",
            "-rw-r--r-- 1 root root  869 Oct 10 21:18 the_four_friends-milne-animals.txt\n",
            "-rw-r--r-- 1 root root  500 Oct 10 21:18 to_a_historian-whitman.txt\n",
            "-rw-r--r-- 1 root root  193 Oct 10 21:18 to_foreign_lands-whitman-america.txt\n",
            "-rw-r--r-- 1 root root  895 Oct 10 21:18 to_thee_old_cause-whitman.txt\n",
            "-rw-r--r-- 1 root root  226 Oct 10 21:18 twinkletoes-milne.txt\n"
          ]
        }
      ]
    },
    {
      "cell_type": "code",
      "execution_count": 7,
      "metadata": {
        "id": "0WSY1wUcs42O",
        "outputId": "6a65a70f-271a-42f6-e6f0-7ad4086858d6",
        "colab": {
          "base_uri": "https://localhost:8080/"
        }
      },
      "outputs": [
        {
          "output_type": "stream",
          "name": "stdout",
          "text": [
            "\"lines\"\t660\n",
            "\"words\"\t6371\n",
            "\"chars\"\t37967\n"
          ]
        },
        {
          "output_type": "stream",
          "name": "stderr",
          "text": [
            "No configs found; falling back on auto-configuration\n",
            "No configs specified for inline runner\n",
            "Creating temp directory /tmp/mr_wc.root.20251010.211910.064207\n",
            "Running step 1 of 1...\n",
            "job output is in /tmp/mr_wc.root.20251010.211910.064207/output\n",
            "Streaming final output from /tmp/mr_wc.root.20251010.211910.064207/output...\n",
            "Removing temp directory /tmp/mr_wc.root.20251010.211910.064207...\n"
          ]
        }
      ],
      "source": [
        "%%bash\n",
        "\n",
        "DATA=examples/docs-to-classify\n",
        "\n",
        "python examples/mr_wc.py $DATA"
      ]
    },
    {
      "cell_type": "markdown",
      "source": [
        "We can verify if the result is correct by concatenating all files in `examples/docs-to-classify` and counting lines/words/characters with the customary shell command `wc`."
      ],
      "metadata": {
        "id": "_a0Tgldl1951"
      }
    },
    {
      "cell_type": "code",
      "source": [
        "!cat examples/docs-to-classify/* |wc"
      ],
      "metadata": {
        "id": "4QKl1xclwCtj",
        "outputId": "4b8ec425-341d-4241-cfd9-3d7c14021f1e",
        "colab": {
          "base_uri": "https://localhost:8080/"
        }
      },
      "execution_count": 8,
      "outputs": [
        {
          "output_type": "stream",
          "name": "stdout",
          "text": [
            "    660    6371   38444\n"
          ]
        }
      ]
    },
    {
      "cell_type": "markdown",
      "source": [
        "The number of lines and words is the same but `wc` returns a different number of characters ($38444$ vs. the $37967$ from the `mrjob` example)."
      ],
      "metadata": {
        "id": "IWPsqJM82ykm"
      }
    },
    {
      "cell_type": "code",
      "source": [
        "38444-37967"
      ],
      "metadata": {
        "id": "8DsTxmVC3ScJ",
        "outputId": "45df2d77-5564-4cdc-ba2e-7b4d0208a732",
        "colab": {
          "base_uri": "https://localhost:8080/"
        }
      },
      "execution_count": 9,
      "outputs": [
        {
          "output_type": "execute_result",
          "data": {
            "text/plain": [
              "477"
            ]
          },
          "metadata": {},
          "execution_count": 9
        }
      ]
    },
    {
      "cell_type": "code",
      "source": [
        "!python examples/mr_wc.py examples/docs-to-classify/american_feuillage-whitman-america.txt  2>/dev/null |grep chars"
      ],
      "metadata": {
        "id": "T8Als_X74Ks1",
        "outputId": "61b6613b-5e65-4a81-85df-4f852d3d17e8",
        "colab": {
          "base_uri": "https://localhost:8080/"
        }
      },
      "execution_count": 10,
      "outputs": [
        {
          "output_type": "stream",
          "name": "stdout",
          "text": [
            "\"chars\"\t9409\n"
          ]
        }
      ]
    },
    {
      "cell_type": "code",
      "source": [
        "%%bash\n",
        "\n",
        "for f in examples/docs-to-classify/*\n",
        "do\n",
        "  wc -c $f\n",
        "  DATA=$f\n",
        "  python examples/mr_wc.py $DATA 2>/dev/null |grep chars\n",
        "done\n"
      ],
      "metadata": {
        "id": "sTpsgC0m3czJ",
        "outputId": "e14b1e49-e61b-4eab-e92d-286ed9c9eda4",
        "colab": {
          "base_uri": "https://localhost:8080/"
        }
      },
      "execution_count": 11,
      "outputs": [
        {
          "output_type": "stream",
          "name": "stdout",
          "text": [
            "9555 examples/docs-to-classify/american_feuillage-whitman-america.txt\n",
            "\"chars\"\t9409\n",
            "933 examples/docs-to-classify/as_i_ponderd_in_silence-whitman.txt\n",
            "\"chars\"\t925\n",
            "1151 examples/docs-to-classify/buckingham_palace-milne-not_america.txt\n",
            "\"chars\"\t1085\n",
            "19857 examples/docs-to-classify/chants_democratic-whitman-america.txt\n",
            "\"chars\"\t19716\n",
            "288 examples/docs-to-classify/corner_of_the_street-milne-not_whitman.txt\n",
            "\"chars\"\t280\n",
            "154 examples/docs-to-classify/happiness-milne.txt\n",
            "\"chars\"\t152\n",
            "1496 examples/docs-to-classify/in_cabind_ships_at_sea-whitman.txt\n",
            "\"chars\"\t1482\n",
            "326 examples/docs-to-classify/lines_and_squares-milne-animals.txt\n",
            "\"chars\"\t318\n",
            "432 examples/docs-to-classify/ones_self_i_sing-whitman.txt\n",
            "\"chars\"\t428\n",
            "1154 examples/docs-to-classify/puppy_and_i-milne-animals.txt\n",
            "\"chars\"\t1092\n",
            "415 examples/docs-to-classify/the_christening-milne-animals.txt\n",
            "\"chars\"\t403\n",
            "869 examples/docs-to-classify/the_four_friends-milne-animals.txt\n",
            "\"chars\"\t867\n",
            "500 examples/docs-to-classify/to_a_historian-whitman.txt\n",
            "\"chars\"\t500\n",
            "193 examples/docs-to-classify/to_foreign_lands-whitman-america.txt\n",
            "\"chars\"\t191\n",
            "895 examples/docs-to-classify/to_thee_old_cause-whitman.txt\n",
            "\"chars\"\t893\n",
            "226 examples/docs-to-classify/twinkletoes-milne.txt\n",
            "\"chars\"\t226\n"
          ]
        }
      ]
    },
    {
      "cell_type": "markdown",
      "source": [
        "`mrjob` appears to consistently return a smaller number of characters. Let us open the smallest file and count the characters manually to understand what's going on.\n",
        "\n",
        "The smallest file is `examples/docs-to-classify/happiness-milne.txt` with $152$ characters according to `mrjob` and $154$ according to `wc`."
      ],
      "metadata": {
        "id": "lEGKUCcu477o"
      }
    },
    {
      "cell_type": "code",
      "source": [
        "!cat examples/docs-to-classify/happiness-milne.txt"
      ],
      "metadata": {
        "id": "jRIQ4Nei3c5v",
        "outputId": "b1412730-4546-41e7-be0a-c58454dc6bc2",
        "colab": {
          "base_uri": "https://localhost:8080/"
        }
      },
      "execution_count": 12,
      "outputs": [
        {
          "output_type": "stream",
          "name": "stdout",
          "text": [
            "John had\n",
            "Great Big\n",
            "Waterproof\n",
            "Boots on;\n",
            "John had a\n",
            "Great Big\n",
            "Waterproof\n",
            "Hat;\n",
            "John had a\n",
            "Great Big\n",
            "Waterproof\n",
            "Mackintosh –\n",
            "And that\n",
            "(Said John)\n",
            "Is\n",
            "That.\n"
          ]
        }
      ]
    },
    {
      "cell_type": "markdown",
      "source": [
        "Two hours later ... every time I count the characters I get a different number 🤔"
      ],
      "metadata": {
        "id": "2hgvNBRf6dnA"
      }
    },
    {
      "cell_type": "markdown",
      "source": [
        "Let's try using `wc`: if the result of `wc -c` is greater than the result of `wc -m`, the file contains multi-byte characters."
      ],
      "metadata": {
        "id": "HHg39VDF69Ef"
      }
    },
    {
      "cell_type": "code",
      "source": [
        "!wc -m examples/docs-to-classify/happiness-milne.txt"
      ],
      "metadata": {
        "id": "WoePPoub6kdD",
        "outputId": "8e3d2ece-0724-4008-d037-b955acba3859",
        "colab": {
          "base_uri": "https://localhost:8080/"
        }
      },
      "execution_count": 13,
      "outputs": [
        {
          "output_type": "stream",
          "name": "stdout",
          "text": [
            "152 examples/docs-to-classify/happiness-milne.txt\n"
          ]
        }
      ]
    },
    {
      "cell_type": "code",
      "source": [
        "!wc -c examples/docs-to-classify/happiness-milne.txt"
      ],
      "metadata": {
        "id": "NhHZox6j6v2L",
        "outputId": "bf715979-333c-4b82-e82b-4deb158d66a7",
        "colab": {
          "base_uri": "https://localhost:8080/"
        }
      },
      "execution_count": 14,
      "outputs": [
        {
          "output_type": "stream",
          "name": "stdout",
          "text": [
            "154 examples/docs-to-classify/happiness-milne.txt\n"
          ]
        }
      ]
    },
    {
      "cell_type": "markdown",
      "metadata": {
        "id": "AAMQoJwzs42L"
      },
      "source": [
        "OK, so our `mrjob` script is counting multi-byte characters as multiple characters. Let us verify that:"
      ]
    },
    {
      "cell_type": "code",
      "source": [
        "%%bash\n",
        "\n",
        "for f in examples/docs-to-classify/*\n",
        "do\n",
        "  wc -m $f\n",
        "  DATA=$f\n",
        "  python examples/mr_wc.py $DATA 2>/dev/null |grep chars\n",
        "done"
      ],
      "metadata": {
        "id": "vgZ7p68T7stq",
        "outputId": "72acd601-756a-4aea-f393-977075b94594",
        "colab": {
          "base_uri": "https://localhost:8080/"
        }
      },
      "execution_count": 15,
      "outputs": [
        {
          "output_type": "stream",
          "name": "stdout",
          "text": [
            "9409 examples/docs-to-classify/american_feuillage-whitman-america.txt\n",
            "\"chars\"\t9409\n",
            "925 examples/docs-to-classify/as_i_ponderd_in_silence-whitman.txt\n",
            "\"chars\"\t925\n",
            "1085 examples/docs-to-classify/buckingham_palace-milne-not_america.txt\n",
            "\"chars\"\t1085\n",
            "19716 examples/docs-to-classify/chants_democratic-whitman-america.txt\n",
            "\"chars\"\t19716\n",
            "280 examples/docs-to-classify/corner_of_the_street-milne-not_whitman.txt\n",
            "\"chars\"\t280\n",
            "152 examples/docs-to-classify/happiness-milne.txt\n",
            "\"chars\"\t152\n",
            "1482 examples/docs-to-classify/in_cabind_ships_at_sea-whitman.txt\n",
            "\"chars\"\t1482\n",
            "318 examples/docs-to-classify/lines_and_squares-milne-animals.txt\n",
            "\"chars\"\t318\n",
            "428 examples/docs-to-classify/ones_self_i_sing-whitman.txt\n",
            "\"chars\"\t428\n",
            "1092 examples/docs-to-classify/puppy_and_i-milne-animals.txt\n",
            "\"chars\"\t1092\n",
            "403 examples/docs-to-classify/the_christening-milne-animals.txt\n",
            "\"chars\"\t403\n",
            "867 examples/docs-to-classify/the_four_friends-milne-animals.txt\n",
            "\"chars\"\t867\n",
            "500 examples/docs-to-classify/to_a_historian-whitman.txt\n",
            "\"chars\"\t500\n",
            "191 examples/docs-to-classify/to_foreign_lands-whitman-america.txt\n",
            "\"chars\"\t191\n",
            "893 examples/docs-to-classify/to_thee_old_cause-whitman.txt\n",
            "\"chars\"\t893\n",
            "226 examples/docs-to-classify/twinkletoes-milne.txt\n",
            "\"chars\"\t226\n"
          ]
        }
      ]
    },
    {
      "cell_type": "code",
      "execution_count": 16,
      "metadata": {
        "id": "lk55j4zks42L",
        "outputId": "beb0d157-bab5-41e2-ea97-d3cc5010dcc9",
        "colab": {
          "base_uri": "https://localhost:8080/"
        }
      },
      "outputs": [
        {
          "output_type": "stream",
          "name": "stdout",
          "text": [
            "37967\n"
          ]
        }
      ],
      "source": [
        "!cat examples/docs-to-classify/* |wc -m"
      ]
    },
    {
      "cell_type": "markdown",
      "metadata": {
        "id": "vpc1DS1Qs42N"
      },
      "source": [
        "✅ $37967$ is the same result as the output of the `mrjob` script!"
      ]
    },
    {
      "cell_type": "markdown",
      "source": [
        "Note that this job ran on only **locally**.\n",
        "\n",
        "To see an example of a job running on a cluster, please check the tutorial below:\n",
        "\n",
        "[Getting started with `mrjob`](https://github.com/groda/big_data/blob/master/getting_started_with_mrjob.ipynb)"
      ],
      "metadata": {
        "id": "lZGbeeBq939w"
      }
    },
    {
      "cell_type": "markdown",
      "source": [
        "## Context: $\\text{mrjob}$ Maintenance Status\n",
        "\n",
        "$\\text{mrjob}$ was originally developed and open-sourced by **Yelp**, the well-known business review platform. Yelp created and heavily relied on $\\text{mrjob}$ as their primary framework for running analytical jobs across their large Hadoop clusters.\n",
        "\n",
        "While $\\text{mrjob}$ is a robust and widely-used tool that simplifies the development and deployment of Python-based MapReduce and Spark jobs, the project's **active maintenance has slowed significantly in recent years.**\n",
        "\n",
        "Here's why this is relevant:\n",
        "\n",
        "* **Yelp's Transition:** Like many tech companies, Yelp has likely evolved its data infrastructure, shifting toward newer technologies (such as pure Spark, Flink, or cloud-native solutions) that offer better performance or integration with modern cloud platforms. This reduces the immediate need for them to heavily invest resources in updating the $\\text{mrjob}$ core library.\n",
        "* **Feature Stagnation:** The codebase generally receives fewer updates, bug fixes, and new features compared to actively maintained frameworks. Users may find that support for the **very latest versions of Hadoop, Spark, or Python** can lag behind.\n",
        "* **Stability vs. Modernity:** Despite the lack of recent updates, $\\text{mrjob}$ remains stable and perfectly functional for environments using compatible versions of Hadoop and Spark. It serves as a strong, proven framework for those who value its **simplicity and unified Python interface** over the bleeding edge of data technology.\n"
      ],
      "metadata": {
        "id": "HsZIEDzkuBcb"
      }
    }
  ],
  "metadata": {
    "kernelspec": {
      "display_name": "Python 3",
      "language": "python",
      "name": "python3"
    },
    "language_info": {
      "codemirror_mode": {
        "name": "ipython",
        "version": 3
      },
      "file_extension": ".py",
      "mimetype": "text/x-python",
      "name": "python",
      "nbconvert_exporter": "python",
      "pygments_lexer": "ipython3",
      "version": "3.7.6"
    },
    "colab": {
      "provenance": [],
      "include_colab_link": true
    }
  },
  "nbformat": 4,
  "nbformat_minor": 0
}